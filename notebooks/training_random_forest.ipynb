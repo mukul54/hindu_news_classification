{
  "nbformat": 4,
  "nbformat_minor": 0,
  "metadata": {
    "colab": {
      "name": "news_classification_random_forest.ipynb",
      "provenance": [],
      "collapsed_sections": []
    },
    "kernelspec": {
      "display_name": "Python 3",
      "name": "python3"
    },
    "language_info": {
      "name": "python"
    }
  },
  "cells": [
    {
      "cell_type": "code",
      "metadata": {
        "colab": {
          "base_uri": "https://localhost:8080/"
        },
        "id": "7jIYhZUWq1cv",
        "outputId": "1f4cb9d8-d229-49f9-e522-861b825a51b1"
      },
      "source": [
        "import json, os, re\n",
        "import glob\n",
        "import pickle, time, regex\n",
        "import string\n",
        "import numpy as np\n",
        "import pandas as pd\n",
        "import matplotlib.pyplot as plt\n",
        "import seaborn as sns\n",
        "from collections import defaultdict\n",
        "\n",
        "import nltk\n",
        "from nltk.tokenize import word_tokenize\n",
        "from nltk.corpus import stopwords\n",
        "from nltk.stem import SnowballStemmer, WordNetLemmatizer\n",
        "from nltk.util import ngrams\n",
        "from nltk import pos_tag\n",
        "\n",
        "nltk.download('stopwords')\n",
        "nltk.download('punkt')\n",
        "nltk.download('wordnet')\n",
        "nltk.download('averaged_perceptron_tagger')"
      ],
      "execution_count": 1,
      "outputs": [
        {
          "output_type": "stream",
          "name": "stdout",
          "text": [
            "[nltk_data] Downloading package stopwords to /root/nltk_data...\n",
            "[nltk_data]   Unzipping corpora/stopwords.zip.\n",
            "[nltk_data] Downloading package punkt to /root/nltk_data...\n",
            "[nltk_data]   Unzipping tokenizers/punkt.zip.\n",
            "[nltk_data] Downloading package wordnet to /root/nltk_data...\n",
            "[nltk_data]   Unzipping corpora/wordnet.zip.\n",
            "[nltk_data] Downloading package averaged_perceptron_tagger to\n",
            "[nltk_data]     /root/nltk_data...\n",
            "[nltk_data]   Unzipping taggers/averaged_perceptron_tagger.zip.\n"
          ]
        },
        {
          "output_type": "execute_result",
          "data": {
            "text/plain": [
              "True"
            ]
          },
          "metadata": {},
          "execution_count": 1
        }
      ]
    },
    {
      "cell_type": "code",
      "metadata": {
        "id": "Ocle_7jylAdh"
      },
      "source": [
        "from sklearn.feature_extraction.text import TfidfVectorizer\n",
        "from sklearn.model_selection import train_test_split\n",
        "from sklearn.feature_selection import chi2\n",
        "from sklearn.ensemble import RandomForestClassifier\n",
        "from pprint import pprint\n",
        "from sklearn.model_selection import RandomizedSearchCV\n",
        "from sklearn.model_selection import GridSearchCV\n",
        "from sklearn.metrics import classification_report, confusion_matrix, accuracy_score\n",
        "from sklearn.model_selection import ShuffleSplit"
      ],
      "execution_count": 2,
      "outputs": []
    },
    {
      "cell_type": "code",
      "metadata": {
        "id": "mUsrY7_m_SI6"
      },
      "source": [
        "pd.options.mode.chained_assignment = None  # default='warn'"
      ],
      "execution_count": 3,
      "outputs": []
    },
    {
      "cell_type": "markdown",
      "metadata": {
        "id": "L8ijnxi3eRsw"
      },
      "source": [
        "## Cleaning"
      ]
    },
    {
      "cell_type": "code",
      "metadata": {
        "colab": {
          "base_uri": "https://localhost:8080/"
        },
        "id": "NKN5PCAoj5tF",
        "outputId": "1859e6f7-766c-4e79-fb33-59bd87d989b2"
      },
      "source": [
        "raw_all = glob.glob('/content/drive/MyDrive/news_analysis/assets/raw_data/*.csv')\n",
        "df1 = pd.read_csv(raw_all[0])\n",
        "df2 = pd.read_csv(raw_all[1])\n",
        "df3 = pd.read_csv(raw_all[2])\n",
        "df_list = [df1, df2, df3]\n",
        "new_df = pd.concat(df_list)\n",
        "new_df.shape"
      ],
      "execution_count": 4,
      "outputs": [
        {
          "output_type": "execute_result",
          "data": {
            "text/plain": [
              "(8720, 4)"
            ]
          },
          "metadata": {},
          "execution_count": 4
        }
      ]
    },
    {
      "cell_type": "code",
      "metadata": {
        "colab": {
          "base_uri": "https://localhost:8080/",
          "height": 35
        },
        "id": "HV0Rlzw9dV_Z",
        "outputId": "5745f674-456c-4038-daff-06182f9beb3e"
      },
      "source": [
        "raw_all[0]"
      ],
      "execution_count": 5,
      "outputs": [
        {
          "output_type": "execute_result",
          "data": {
            "application/vnd.google.colaboratory.intrinsic+json": {
              "type": "string"
            },
            "text/plain": [
              "'/content/drive/MyDrive/news_analysis/assets/raw_data/the_hindu_news_2020_60_days.csv'"
            ]
          },
          "metadata": {},
          "execution_count": 5
        }
      ]
    },
    {
      "cell_type": "code",
      "metadata": {
        "colab": {
          "base_uri": "https://localhost:8080/",
          "height": 293
        },
        "id": "Jk8XUXSzto8X",
        "outputId": "33d19178-5481-42ca-e3f5-690a37e3d795"
      },
      "source": [
        "new_df.head()"
      ],
      "execution_count": 6,
      "outputs": [
        {
          "output_type": "execute_result",
          "data": {
            "text/html": [
              "<div>\n",
              "<style scoped>\n",
              "    .dataframe tbody tr th:only-of-type {\n",
              "        vertical-align: middle;\n",
              "    }\n",
              "\n",
              "    .dataframe tbody tr th {\n",
              "        vertical-align: top;\n",
              "    }\n",
              "\n",
              "    .dataframe thead th {\n",
              "        text-align: right;\n",
              "    }\n",
              "</style>\n",
              "<table border=\"1\" class=\"dataframe\">\n",
              "  <thead>\n",
              "    <tr style=\"text-align: right;\">\n",
              "      <th></th>\n",
              "      <th>headline</th>\n",
              "      <th>links</th>\n",
              "      <th>content</th>\n",
              "      <th>labels</th>\n",
              "    </tr>\n",
              "  </thead>\n",
              "  <tbody>\n",
              "    <tr>\n",
              "      <th>0</th>\n",
              "      <td>Sindhu targets Olympics gold</td>\n",
              "      <td>https://www.thehindu.com/sport/other-sports/si...</td>\n",
              "      <td>World champion P.V. Sindhu said it is time to ...</td>\n",
              "      <td>other sports</td>\n",
              "    </tr>\n",
              "    <tr>\n",
              "      <th>1</th>\n",
              "      <td>Shotgun selection trials from January 20</td>\n",
              "      <td>https://www.thehindu.com/sport/other-sports/sh...</td>\n",
              "      <td>The second and third shotgun selection trials ...</td>\n",
              "      <td>other sports</td>\n",
              "    </tr>\n",
              "    <tr>\n",
              "      <th>2</th>\n",
              "      <td>Supreme Fragrance wins SI Oaks in style</td>\n",
              "      <td>https://www.thehindu.com/sport/races/star-frag...</td>\n",
              "      <td>Robert Foley-trained Supreme Fragrance (Nakha...</td>\n",
              "      <td>races</td>\n",
              "    </tr>\n",
              "    <tr>\n",
              "      <th>3</th>\n",
              "      <td>Prevalent Force, Stormy Knight, Indian Democra...</td>\n",
              "      <td>https://www.thehindu.com/sport/races/prevalent...</td>\n",
              "      <td>Prevalent Force, Stormy Knight, Indian Democr...</td>\n",
              "      <td>races</td>\n",
              "    </tr>\n",
              "    <tr>\n",
              "      <th>4</th>\n",
              "      <td>Awesome One excels</td>\n",
              "      <td>https://www.thehindu.com/sport/races/awesome-o...</td>\n",
              "      <td>Awesome One excelled when the horses were exe...</td>\n",
              "      <td>races</td>\n",
              "    </tr>\n",
              "  </tbody>\n",
              "</table>\n",
              "</div>"
            ],
            "text/plain": [
              "                                            headline  ...        labels\n",
              "0                      Sindhu targets Olympics gold   ...  other sports\n",
              "1           Shotgun selection trials from January 20  ...  other sports\n",
              "2            Supreme Fragrance wins SI Oaks in style  ...         races\n",
              "3  Prevalent Force, Stormy Knight, Indian Democra...  ...         races\n",
              "4                                 Awesome One excels  ...         races\n",
              "\n",
              "[5 rows x 4 columns]"
            ]
          },
          "metadata": {},
          "execution_count": 6
        }
      ]
    },
    {
      "cell_type": "code",
      "metadata": {
        "colab": {
          "base_uri": "https://localhost:8080/",
          "height": 886
        },
        "id": "ZTq8H8w75Gur",
        "outputId": "bd0e9ad0-765c-4a04-99a7-ee6d2803c72a"
      },
      "source": [
        "def show_values_on_bars(axs):\n",
        "    def _show_on_single_plot(ax):        \n",
        "        for p in ax.patches:\n",
        "            _x = p.get_x() + p.get_width() / 2\n",
        "            _y = p.get_y() + p.get_height()\n",
        "            value = '{:.2f}'.format(p.get_height())\n",
        "            ax.text(_x, _y, str(int(float(value))), ha=\"center\") \n",
        "\n",
        "    if isinstance(axs, np.ndarray):\n",
        "        for idx, ax in np.ndenumerate(axs):\n",
        "            _show_on_single_plot(ax)\n",
        "    else:\n",
        "        _show_on_single_plot(axs)\n",
        "\n",
        "def show_values_on_bars_percentage(axs):\n",
        "    def _show_on_single_plot(ax):        \n",
        "        for p in ax.patches:\n",
        "            _x = p.get_x() + p.get_width() / 2\n",
        "            _y = p.get_y() + p.get_height()\n",
        "            value = '{:.2f}%'.format(p.get_height())\n",
        "            ax.text(_x, _y, value, ha=\"center\") \n",
        "\n",
        "    if isinstance(axs, np.ndarray):\n",
        "        for idx, ax in np.ndenumerate(axs):\n",
        "            _show_on_single_plot(ax)\n",
        "    else:\n",
        "        _show_on_single_plot(axs)\n",
        "\n",
        "def plot_labels_count(df, label_col_name = 'labels', \n",
        "                      text_col_name = 'content', \n",
        "                      file_name = 'raw_data_labels_count.jpg'):\n",
        "  df_temp = pd.DataFrame(df.groupby([label_col_name]).count()[text_col_name]).reset_index()\n",
        "  df_temp = df_temp.rename(columns={\"content\": \"count\"})\n",
        "  df_temp['percentage'] = (df_temp['count']/df_temp['count'].sum()) * 100\n",
        "  fig = plt.figure(figsize = (14, 6))\n",
        "  ax = sns.barplot(x = 'labels', y = 'count',data = df_temp, palette='tab20')\n",
        "  show_values_on_bars(ax)\n",
        "  plt.xticks(rotation = 90)\n",
        "\n",
        "  dir_path = '/content/drive/MyDrive/news_analysis/assets/figs'\n",
        "  file_name = os.path.join(dir_path, file_name)\n",
        "  plt.savefig(file_name, bbox_inches = 'tight',dpi = 150, facecolor=fig.get_facecolor(), edgecolor='none')\n",
        "  plt.show()\n",
        "\n",
        "def plot_labels_percentage(df, label_col_name = 'labels', \n",
        "                      text_col_name = 'content', \n",
        "                      file_name = 'raw_data_labels_percentage.jpg'):\n",
        "  df_temp = pd.DataFrame(df.groupby([label_col_name]).count()[text_col_name]).reset_index()\n",
        "  df_temp = df_temp.rename(columns={\"content\": \"count\"})\n",
        "  df_temp['percentage'] = (df_temp['count']/df_temp['count'].sum()) * 100\n",
        "  fig = plt.figure(figsize = (14, 6))\n",
        "  ax = sns.barplot(x = 'labels', y = 'percentage',data = df_temp, palette='tab20')\n",
        "  show_values_on_bars_percentage(ax)\n",
        "  plt.xticks(rotation = 90)\n",
        "\n",
        "  dir_path = '/content/drive/MyDrive/news_analysis/assets/figs'\n",
        "  file_name = os.path.join(dir_path, file_name)\n",
        "  plt.savefig(file_name, bbox_inches = 'tight',dpi = 150, facecolor=fig.get_facecolor(), edgecolor='none')\n",
        "  plt.show()\n",
        "# df = pd.read_csv(raw_data_path)\n",
        "plot_labels_percentage(new_df)\n",
        "plot_labels_count(new_df)"
      ],
      "execution_count": 7,
      "outputs": [
        {
          "output_type": "display_data",
          "data": {
            "image/png": "[encoded data removed]",
            "text/plain": [
              "<Figure size 1008x432 with 1 Axes>"
            ]
          },
          "metadata": {
            "needs_background": "light"
          }
        },
        {
          "output_type": "display_data",
          "data": {
            "image/png": "[encoded data removed]",
            "text/plain": [
              "<Figure size 1008x432 with 1 Axes>"
            ]
          },
          "metadata": {
            "needs_background": "light"
          }
        }
      ]
    },
    {
      "cell_type": "code",
      "metadata": {
        "colab": {
          "base_uri": "https://localhost:8080/",
          "height": 488
        },
        "id": "V_2xDFPOxxOx",
        "outputId": "9759ce8e-1936-43d9-f332-1ff068f9bd19"
      },
      "source": [
        "df_temp = pd.DataFrame(new_df.groupby(['labels']).count()['content']).reset_index()\n",
        "df_temp = df_temp.rename(columns={\"content\": \"count\"})\n",
        "df_temp['percentage'] = (df_temp['count']/df_temp['count'].sum()) * 100\n",
        "df_temp"
      ],
      "execution_count": 8,
      "outputs": [
        {
          "output_type": "execute_result",
          "data": {
            "text/html": [
              "<div>\n",
              "<style scoped>\n",
              "    .dataframe tbody tr th:only-of-type {\n",
              "        vertical-align: middle;\n",
              "    }\n",
              "\n",
              "    .dataframe tbody tr th {\n",
              "        vertical-align: top;\n",
              "    }\n",
              "\n",
              "    .dataframe thead th {\n",
              "        text-align: right;\n",
              "    }\n",
              "</style>\n",
              "<table border=\"1\" class=\"dataframe\">\n",
              "  <thead>\n",
              "    <tr style=\"text-align: right;\">\n",
              "      <th></th>\n",
              "      <th>labels</th>\n",
              "      <th>count</th>\n",
              "      <th>percentage</th>\n",
              "    </tr>\n",
              "  </thead>\n",
              "  <tbody>\n",
              "    <tr>\n",
              "      <th>0</th>\n",
              "      <td>business</td>\n",
              "      <td>862</td>\n",
              "      <td>9.913744</td>\n",
              "    </tr>\n",
              "    <tr>\n",
              "      <th>1</th>\n",
              "      <td>cricket</td>\n",
              "      <td>575</td>\n",
              "      <td>6.612996</td>\n",
              "    </tr>\n",
              "    <tr>\n",
              "      <th>2</th>\n",
              "      <td>economy</td>\n",
              "      <td>144</td>\n",
              "      <td>1.656124</td>\n",
              "    </tr>\n",
              "    <tr>\n",
              "      <th>3</th>\n",
              "      <td>entertainment</td>\n",
              "      <td>149</td>\n",
              "      <td>1.713629</td>\n",
              "    </tr>\n",
              "    <tr>\n",
              "      <th>4</th>\n",
              "      <td>international</td>\n",
              "      <td>1356</td>\n",
              "      <td>15.595170</td>\n",
              "    </tr>\n",
              "    <tr>\n",
              "      <th>5</th>\n",
              "      <td>markets</td>\n",
              "      <td>282</td>\n",
              "      <td>3.243243</td>\n",
              "    </tr>\n",
              "    <tr>\n",
              "      <th>6</th>\n",
              "      <td>movies</td>\n",
              "      <td>866</td>\n",
              "      <td>9.959747</td>\n",
              "    </tr>\n",
              "    <tr>\n",
              "      <th>7</th>\n",
              "      <td>national</td>\n",
              "      <td>2076</td>\n",
              "      <td>23.875791</td>\n",
              "    </tr>\n",
              "    <tr>\n",
              "      <th>8</th>\n",
              "      <td>other sports</td>\n",
              "      <td>407</td>\n",
              "      <td>4.680851</td>\n",
              "    </tr>\n",
              "    <tr>\n",
              "      <th>9</th>\n",
              "      <td>races</td>\n",
              "      <td>172</td>\n",
              "      <td>1.978148</td>\n",
              "    </tr>\n",
              "    <tr>\n",
              "      <th>10</th>\n",
              "      <td>science</td>\n",
              "      <td>348</td>\n",
              "      <td>4.002300</td>\n",
              "    </tr>\n",
              "    <tr>\n",
              "      <th>11</th>\n",
              "      <td>society</td>\n",
              "      <td>632</td>\n",
              "      <td>7.268545</td>\n",
              "    </tr>\n",
              "    <tr>\n",
              "      <th>12</th>\n",
              "      <td>technology</td>\n",
              "      <td>815</td>\n",
              "      <td>9.373203</td>\n",
              "    </tr>\n",
              "    <tr>\n",
              "      <th>13</th>\n",
              "      <td>travel</td>\n",
              "      <td>11</td>\n",
              "      <td>0.126509</td>\n",
              "    </tr>\n",
              "  </tbody>\n",
              "</table>\n",
              "</div>"
            ],
            "text/plain": [
              "           labels  count  percentage\n",
              "0        business    862    9.913744\n",
              "1         cricket    575    6.612996\n",
              "2         economy    144    1.656124\n",
              "3   entertainment    149    1.713629\n",
              "4   international   1356   15.595170\n",
              "5         markets    282    3.243243\n",
              "6          movies    866    9.959747\n",
              "7        national   2076   23.875791\n",
              "8    other sports    407    4.680851\n",
              "9           races    172    1.978148\n",
              "10        science    348    4.002300\n",
              "11        society    632    7.268545\n",
              "12     technology    815    9.373203\n",
              "13         travel     11    0.126509"
            ]
          },
          "metadata": {},
          "execution_count": 8
        }
      ]
    },
    {
      "cell_type": "code",
      "metadata": {
        "colab": {
          "base_uri": "https://localhost:8080/",
          "height": 886
        },
        "id": "a37cViYE5u-t",
        "outputId": "0cc421be-e108-4cf3-b4c6-0a6e968fccfa"
      },
      "source": [
        "# df = pd.read_csv(raw_data_path)\n",
        "def combine_labels(df):\n",
        "  df['labels']=df.labels.replace(['business','economy','markets','cricket', 'races','other sports', 'entertainment', 'movies'], ['business','business','business', 'sports', 'sports','sports', 'entertainment', 'entertainment'])\n",
        "  df['labels'] = df.labels.replace(['science','technology'],['sci-tech', 'sci-tech'])\n",
        "  # drop travel row since it has really less data points\n",
        "  df = df[df.labels != 'travel']\n",
        "  # df = df[df.labels != 'national']\n",
        "  return df\n",
        "df_new = combine_labels(new_df)\n",
        "plot_labels_percentage(df_new, file_name = 'reduced_label_data_percentage.jpg')\n",
        "plot_labels_count(df_new, file_name = 'reduced_label_data_count.jpg')\n",
        "# df_new.groupby(['labels']).count()['content']"
      ],
      "execution_count": 9,
      "outputs": [
        {
          "output_type": "display_data",
          "data": {
            "image/png": "[encoded data removed]",
            "text/plain": [
              "<Figure size 1008x432 with 1 Axes>"
            ]
          },
          "metadata": {
            "needs_background": "light"
          }
        },
        {
          "output_type": "display_data",
          "data": {
            "image/png": "[encoded data removed]",
            "text/plain": [
              "<Figure size 1008x432 with 1 Axes>"
            ]
          },
          "metadata": {
            "needs_background": "light"
          }
        }
      ]
    },
    {
      "cell_type": "code",
      "metadata": {
        "colab": {
          "base_uri": "https://localhost:8080/",
          "height": 269
        },
        "id": "McQuN8MVD6t6",
        "outputId": "928f133e-49c5-46e8-9c29-2965943f1e58"
      },
      "source": [
        "df_temp = pd.DataFrame(df_new.groupby(['labels']).count()['content']).reset_index()\n",
        "df_temp = df_temp.rename(columns={\"content\": \"count\"})\n",
        "df_temp['percentage'] = (df_temp['count']/df_temp['count'].sum()) * 100\n",
        "df_temp"
      ],
      "execution_count": 10,
      "outputs": [
        {
          "output_type": "execute_result",
          "data": {
            "text/html": [
              "<div>\n",
              "<style scoped>\n",
              "    .dataframe tbody tr th:only-of-type {\n",
              "        vertical-align: middle;\n",
              "    }\n",
              "\n",
              "    .dataframe tbody tr th {\n",
              "        vertical-align: top;\n",
              "    }\n",
              "\n",
              "    .dataframe thead th {\n",
              "        text-align: right;\n",
              "    }\n",
              "</style>\n",
              "<table border=\"1\" class=\"dataframe\">\n",
              "  <thead>\n",
              "    <tr style=\"text-align: right;\">\n",
              "      <th></th>\n",
              "      <th>labels</th>\n",
              "      <th>count</th>\n",
              "      <th>percentage</th>\n",
              "    </tr>\n",
              "  </thead>\n",
              "  <tbody>\n",
              "    <tr>\n",
              "      <th>0</th>\n",
              "      <td>business</td>\n",
              "      <td>1288</td>\n",
              "      <td>14.831875</td>\n",
              "    </tr>\n",
              "    <tr>\n",
              "      <th>1</th>\n",
              "      <td>entertainment</td>\n",
              "      <td>1015</td>\n",
              "      <td>11.688162</td>\n",
              "    </tr>\n",
              "    <tr>\n",
              "      <th>2</th>\n",
              "      <td>international</td>\n",
              "      <td>1356</td>\n",
              "      <td>15.614924</td>\n",
              "    </tr>\n",
              "    <tr>\n",
              "      <th>3</th>\n",
              "      <td>national</td>\n",
              "      <td>2076</td>\n",
              "      <td>23.906034</td>\n",
              "    </tr>\n",
              "    <tr>\n",
              "      <th>4</th>\n",
              "      <td>sci-tech</td>\n",
              "      <td>1163</td>\n",
              "      <td>13.392446</td>\n",
              "    </tr>\n",
              "    <tr>\n",
              "      <th>5</th>\n",
              "      <td>society</td>\n",
              "      <td>632</td>\n",
              "      <td>7.277752</td>\n",
              "    </tr>\n",
              "    <tr>\n",
              "      <th>6</th>\n",
              "      <td>sports</td>\n",
              "      <td>1154</td>\n",
              "      <td>13.288807</td>\n",
              "    </tr>\n",
              "  </tbody>\n",
              "</table>\n",
              "</div>"
            ],
            "text/plain": [
              "          labels  count  percentage\n",
              "0       business   1288   14.831875\n",
              "1  entertainment   1015   11.688162\n",
              "2  international   1356   15.614924\n",
              "3       national   2076   23.906034\n",
              "4       sci-tech   1163   13.392446\n",
              "5        society    632    7.277752\n",
              "6         sports   1154   13.288807"
            ]
          },
          "metadata": {},
          "execution_count": 10
        }
      ]
    },
    {
      "cell_type": "code",
      "metadata": {
        "colab": {
          "base_uri": "https://localhost:8080/"
        },
        "id": "_M2yInr293Av",
        "outputId": "1535bb4d-7a71-43e3-aa6e-90190e9f776f"
      },
      "source": [
        "df_new.shape"
      ],
      "execution_count": 11,
      "outputs": [
        {
          "output_type": "execute_result",
          "data": {
            "text/plain": [
              "(8709, 4)"
            ]
          },
          "metadata": {},
          "execution_count": 11
        }
      ]
    },
    {
      "cell_type": "markdown",
      "metadata": {
        "id": "3p6b9FK62I3k"
      },
      "source": [
        "## Cleaing"
      ]
    },
    {
      "cell_type": "code",
      "metadata": {
        "id": "uzcuv2bwQSYZ"
      },
      "source": [
        "def remove_stop_words(data):\n",
        "  word_list = word_tokenize(data)\n",
        "  stops = set(stopwords.words(\"english\"))\n",
        "  filtered_words = [word for word in word_list if word not in stops]\n",
        "  return \" \".join(filtered_words)\n",
        "\n",
        "def lemmatize_doc(doc):\n",
        "  \"\"\"\n",
        "  Lemmatize a doc\n",
        "  \"\"\"\n",
        "  lemma_sentence=[]\n",
        "  wnl = WordNetLemmatizer()\n",
        "  for word, tag in pos_tag(word_tokenize(doc)):\n",
        "    wntag = tag[0].lower()\n",
        "    wntag = wntag if wntag in ['a', 'r', 'n', 'v'] else None\n",
        "    if not wntag:\n",
        "      lemma = word\n",
        "    else:\n",
        "      lemma = wnl.lemmatize(word, wntag)\n",
        "    lemma_sentence.append(lemma)\n",
        "    lemma_sentence.append(\" \")\n",
        "  return \"\".join(lemma_sentence)\n",
        "\n",
        "def clean(data):\n",
        "  \"\"\"\n",
        "  Args:\n",
        "  data: single sentence\n",
        "  \"\"\"\n",
        "  # remove functions body\n",
        "  data = re.sub(r'(?<={)[^}]*', '', data)\n",
        "  #remove function name\n",
        "  data = re.sub('([\\w]+ getPlayerID)', '', data)\n",
        "  data = re.sub('loadAsyncURL.*', '', data)\n",
        "  #remove unicodes\n",
        "  data = re.sub(r'[^\\x00-\\x7f]',r'', data)\n",
        "  data = data.replace('\\x0c', '')\n",
        "  data = data.replace('\\x0d', '')\n",
        "  data = data.replace('\\f', '')\n",
        "  data = data.replace('\\n', ' ')\n",
        "\n",
        "  # removing mentions \n",
        "  data = re.sub(\"@\\S+\", \"\", data)\n",
        "  # remove market tickers\n",
        "  data = re.sub(\"\\$\", \"\", data)\n",
        "  # remove urls\n",
        "  data = re.sub(\"https?:\\/\\/.*[\\r\\n]*\", \"\", data)\n",
        "\n",
        "  # removing hashtags \n",
        "  data = re.sub(\"#\", \"\", data)\n",
        "\n",
        "  # Remove ticks and the next character\n",
        "  #Notley's tactful -> Notley tactful\n",
        "  data = re.sub(\"\\'\\w+\", '', data)\n",
        "\n",
        "  #Remove Numbers\n",
        "  data = re.sub(r'\\w*\\d+\\w*', '', data)\n",
        "\n",
        "  # remove all other symbols numbers and white spaces\n",
        "  char_safe = ['.', '?', '!',]\n",
        "  data = \"\".join([character if (character.isalnum() or character in char_safe) else \" \" for character in data])\n",
        "  #remove ., ?, !\n",
        "  data = data.replace('.', ' ')\n",
        "  data = data.replace('?', ' ')\n",
        "  data = data.replace('!', ' ')\n",
        "  # remove extra white spce in the middle\n",
        "  data = re.sub(\" +\", \" \", data)\n",
        "  #remove extra spaces in the beginning\n",
        "  data = data.strip()\n",
        "\n",
        "  #lowercase the text\n",
        "  data = data.lower()\n",
        "  return data"
      ],
      "execution_count": 12,
      "outputs": []
    },
    {
      "cell_type": "code",
      "metadata": {
        "colab": {
          "base_uri": "https://localhost:8080/"
        },
        "id": "OpWYwAJtpMu1",
        "outputId": "2fe05b8e-7c27-4e33-daf9-bc852f801214"
      },
      "source": [
        "df_new = df_new[df_new['content'].notna()]\n",
        "df_new.shape"
      ],
      "execution_count": 13,
      "outputs": [
        {
          "output_type": "execute_result",
          "data": {
            "text/plain": [
              "(8684, 4)"
            ]
          },
          "metadata": {},
          "execution_count": 13
        }
      ]
    },
    {
      "cell_type": "code",
      "metadata": {
        "colab": {
          "base_uri": "https://localhost:8080/"
        },
        "id": "qkbSbyG3oUwM",
        "outputId": "a3799c4b-7d09-43e0-a23b-c19d197a3f59"
      },
      "source": [
        "df_new.info()"
      ],
      "execution_count": 14,
      "outputs": [
        {
          "output_type": "stream",
          "name": "stdout",
          "text": [
            "<class 'pandas.core.frame.DataFrame'>\n",
            "Int64Index: 8684 entries, 0 to 1267\n",
            "Data columns (total 4 columns):\n",
            " #   Column    Non-Null Count  Dtype \n",
            "---  ------    --------------  ----- \n",
            " 0   headline  8684 non-null   object\n",
            " 1   links     8684 non-null   object\n",
            " 2   content   8684 non-null   object\n",
            " 3   labels    8684 non-null   object\n",
            "dtypes: object(4)\n",
            "memory usage: 339.2+ KB\n"
          ]
        }
      ]
    },
    {
      "cell_type": "code",
      "metadata": {
        "colab": {
          "base_uri": "https://localhost:8080/",
          "height": 695
        },
        "id": "B4ck9W1glgB9",
        "outputId": "b509d3ae-0c46-4790-e366-513698f9c2ec"
      },
      "source": [
        "df_new['cleaned'] = df_new.content.apply(clean)\n",
        "df_new['cleaned_no_sw'] = df_new['cleaned'].apply(remove_stop_words)\n",
        "df_new['cleaned_no_sw_lemma'] = df_new['cleaned_no_sw'].apply(lemmatize_doc)\n",
        "df_new.head()"
      ],
      "execution_count": 15,
      "outputs": [
        {
          "output_type": "execute_result",
          "data": {
            "text/html": [
              "<div>\n",
              "<style scoped>\n",
              "    .dataframe tbody tr th:only-of-type {\n",
              "        vertical-align: middle;\n",
              "    }\n",
              "\n",
              "    .dataframe tbody tr th {\n",
              "        vertical-align: top;\n",
              "    }\n",
              "\n",
              "    .dataframe thead th {\n",
              "        text-align: right;\n",
              "    }\n",
              "</style>\n",
              "<table border=\"1\" class=\"dataframe\">\n",
              "  <thead>\n",
              "    <tr style=\"text-align: right;\">\n",
              "      <th></th>\n",
              "      <th>headline</th>\n",
              "      <th>links</th>\n",
              "      <th>content</th>\n",
              "      <th>labels</th>\n",
              "      <th>cleaned</th>\n",
              "      <th>cleaned_no_sw</th>\n",
              "      <th>cleaned_no_sw_lemma</th>\n",
              "    </tr>\n",
              "  </thead>\n",
              "  <tbody>\n",
              "    <tr>\n",
              "      <th>0</th>\n",
              "      <td>Sindhu targets Olympics gold</td>\n",
              "      <td>https://www.thehindu.com/sport/other-sports/si...</td>\n",
              "      <td>World champion P.V. Sindhu said it is time to ...</td>\n",
              "      <td>sports</td>\n",
              "      <td>world champion p v sindhu said it is time to l...</td>\n",
              "      <td>world champion p v sindhu said time look ahead...</td>\n",
              "      <td>world champion p v sindhu say time look ahead ...</td>\n",
              "    </tr>\n",
              "    <tr>\n",
              "      <th>1</th>\n",
              "      <td>Shotgun selection trials from January 20</td>\n",
              "      <td>https://www.thehindu.com/sport/other-sports/sh...</td>\n",
              "      <td>The second and third shotgun selection trials ...</td>\n",
              "      <td>sports</td>\n",
              "      <td>the second and third shotgun selection trials ...</td>\n",
              "      <td>second third shotgun selection trials identify...</td>\n",
              "      <td>second third shotgun selection trial identify ...</td>\n",
              "    </tr>\n",
              "    <tr>\n",
              "      <th>2</th>\n",
              "      <td>Supreme Fragrance wins SI Oaks in style</td>\n",
              "      <td>https://www.thehindu.com/sport/races/star-frag...</td>\n",
              "      <td>Robert Foley-trained Supreme Fragrance (Nakha...</td>\n",
              "      <td>sports</td>\n",
              "      <td>robert foley trained supreme fragrance nakhat ...</td>\n",
              "      <td>robert foley trained supreme fragrance nakhat ...</td>\n",
              "      <td>robert foley train supreme fragrance nakhat si...</td>\n",
              "    </tr>\n",
              "    <tr>\n",
              "      <th>3</th>\n",
              "      <td>Prevalent Force, Stormy Knight, Indian Democra...</td>\n",
              "      <td>https://www.thehindu.com/sport/races/prevalent...</td>\n",
              "      <td>Prevalent Force, Stormy Knight, Indian Democr...</td>\n",
              "      <td>sports</td>\n",
              "      <td>prevalent force stormy knight indian democrat ...</td>\n",
              "      <td>prevalent force stormy knight indian democrat ...</td>\n",
              "      <td>prevalent force stormy knight indian democrat ...</td>\n",
              "    </tr>\n",
              "    <tr>\n",
              "      <th>4</th>\n",
              "      <td>Awesome One excels</td>\n",
              "      <td>https://www.thehindu.com/sport/races/awesome-o...</td>\n",
              "      <td>Awesome One excelled when the horses were exe...</td>\n",
              "      <td>sports</td>\n",
              "      <td>awesome one excelled when the horses were exer...</td>\n",
              "      <td>awesome one excelled horses exercised wednesda...</td>\n",
              "      <td>awesome one excelled horse exercise wednesday ...</td>\n",
              "    </tr>\n",
              "  </tbody>\n",
              "</table>\n",
              "</div>"
            ],
            "text/plain": [
              "                                            headline  ...                                cleaned_no_sw_lemma\n",
              "0                      Sindhu targets Olympics gold   ...  world champion p v sindhu say time look ahead ...\n",
              "1           Shotgun selection trials from January 20  ...  second third shotgun selection trial identify ...\n",
              "2            Supreme Fragrance wins SI Oaks in style  ...  robert foley train supreme fragrance nakhat si...\n",
              "3  Prevalent Force, Stormy Knight, Indian Democra...  ...  prevalent force stormy knight indian democrat ...\n",
              "4                                 Awesome One excels  ...  awesome one excelled horse exercise wednesday ...\n",
              "\n",
              "[5 rows x 7 columns]"
            ]
          },
          "metadata": {},
          "execution_count": 15
        }
      ]
    },
    {
      "cell_type": "code",
      "metadata": {
        "colab": {
          "base_uri": "https://localhost:8080/",
          "height": 793
        },
        "id": "Vu7qjlxmPsvy",
        "outputId": "2106592c-dfa6-47cd-b9db-974263130443"
      },
      "source": [
        "def plot_news_length(df, file_name = 'news_length_distri.jpg'):\n",
        "  df['news_length'] = df['cleaned'].str.len()\n",
        "  df['word_length'] = df['cleaned'].apply(word_tokenize).apply(len)\n",
        "  fig = plt.figure(figsize=(12.8,6))\n",
        "  sns.histplot(df['news_length'], kde = True).set_title('News length distribution')\n",
        "  dir_path = '/content/drive/MyDrive/news_analysis/assets/figs'\n",
        "  file_name = os.path.join(dir_path, file_name)\n",
        "  plt.savefig(file_name, bbox_inches = 'tight',dpi = 150, facecolor=fig.get_facecolor(), edgecolor='none')\n",
        "\n",
        "def plot_word_length(df, file_name = 'words_length_distri.jpg'):\n",
        "  df['word_length'] = df['cleaned'].apply(word_tokenize).apply(len)\n",
        "  fig = plt.figure(figsize=(12.8,6))\n",
        "  sns.histplot(df['word_length'], kde = True).set_title('Words length distribution')\n",
        "  dir_path = '/content/drive/MyDrive/news_analysis/assets/figs'\n",
        "  file_name = os.path.join(dir_path, file_name)\n",
        "  plt.savefig(file_name, bbox_inches = 'tight',dpi = 150, facecolor=fig.get_facecolor(), edgecolor='none')\n",
        "\n",
        "plot_news_length(df_new)\n",
        "plot_word_length(df_new)"
      ],
      "execution_count": null,
      "outputs": [
        {
          "data": {
            "image/png": "[encoded data removed]",
            "text/plain": [
              "<Figure size 921.6x432 with 1 Axes>"
            ]
          },
          "metadata": {},
          "output_type": "display_data"
        },
        {
          "data": {
            "image/png": "[encoded data removed]",
            "text/plain": [
              "<Figure size 921.6x432 with 1 Axes>"
            ]
          },
          "metadata": {},
          "output_type": "display_data"
        }
      ]
    },
    {
      "cell_type": "markdown",
      "metadata": {
        "id": "I-BWU9qFeVme"
      },
      "source": [
        "## Label Encoding"
      ]
    },
    {
      "cell_type": "code",
      "metadata": {
        "colab": {
          "base_uri": "https://localhost:8080/",
          "height": 695
        },
        "id": "FyjNv3AqUPuw",
        "outputId": "6a8e17fc-848a-454e-a0e6-8dada728369b"
      },
      "source": [
        "def label_encode(df):\n",
        "  labels_code = {'business':0, \n",
        "                'entertainment':1,\n",
        "                'international':2,\n",
        "                'national':3,\n",
        "                'sci-tech':4,\n",
        "                'society':5,\n",
        "                'sports':6\n",
        "                }\n",
        "  # numeric labels\n",
        "  df['numeric_labels'] = df['labels']\n",
        "  df = df.replace({'numeric_labels':labels_code})\n",
        "  return df\n",
        "df = label_encode(df_new)\n",
        "df.head()"
      ],
      "execution_count": 16,
      "outputs": [
        {
          "output_type": "execute_result",
          "data": {
            "text/html": [
              "<div>\n",
              "<style scoped>\n",
              "    .dataframe tbody tr th:only-of-type {\n",
              "        vertical-align: middle;\n",
              "    }\n",
              "\n",
              "    .dataframe tbody tr th {\n",
              "        vertical-align: top;\n",
              "    }\n",
              "\n",
              "    .dataframe thead th {\n",
              "        text-align: right;\n",
              "    }\n",
              "</style>\n",
              "<table border=\"1\" class=\"dataframe\">\n",
              "  <thead>\n",
              "    <tr style=\"text-align: right;\">\n",
              "      <th></th>\n",
              "      <th>headline</th>\n",
              "      <th>links</th>\n",
              "      <th>content</th>\n",
              "      <th>labels</th>\n",
              "      <th>cleaned</th>\n",
              "      <th>cleaned_no_sw</th>\n",
              "      <th>cleaned_no_sw_lemma</th>\n",
              "      <th>numeric_labels</th>\n",
              "    </tr>\n",
              "  </thead>\n",
              "  <tbody>\n",
              "    <tr>\n",
              "      <th>0</th>\n",
              "      <td>Sindhu targets Olympics gold</td>\n",
              "      <td>https://www.thehindu.com/sport/other-sports/si...</td>\n",
              "      <td>World champion P.V. Sindhu said it is time to ...</td>\n",
              "      <td>sports</td>\n",
              "      <td>world champion p v sindhu said it is time to l...</td>\n",
              "      <td>world champion p v sindhu said time look ahead...</td>\n",
              "      <td>world champion p v sindhu say time look ahead ...</td>\n",
              "      <td>6</td>\n",
              "    </tr>\n",
              "    <tr>\n",
              "      <th>1</th>\n",
              "      <td>Shotgun selection trials from January 20</td>\n",
              "      <td>https://www.thehindu.com/sport/other-sports/sh...</td>\n",
              "      <td>The second and third shotgun selection trials ...</td>\n",
              "      <td>sports</td>\n",
              "      <td>the second and third shotgun selection trials ...</td>\n",
              "      <td>second third shotgun selection trials identify...</td>\n",
              "      <td>second third shotgun selection trial identify ...</td>\n",
              "      <td>6</td>\n",
              "    </tr>\n",
              "    <tr>\n",
              "      <th>2</th>\n",
              "      <td>Supreme Fragrance wins SI Oaks in style</td>\n",
              "      <td>https://www.thehindu.com/sport/races/star-frag...</td>\n",
              "      <td>Robert Foley-trained Supreme Fragrance (Nakha...</td>\n",
              "      <td>sports</td>\n",
              "      <td>robert foley trained supreme fragrance nakhat ...</td>\n",
              "      <td>robert foley trained supreme fragrance nakhat ...</td>\n",
              "      <td>robert foley train supreme fragrance nakhat si...</td>\n",
              "      <td>6</td>\n",
              "    </tr>\n",
              "    <tr>\n",
              "      <th>3</th>\n",
              "      <td>Prevalent Force, Stormy Knight, Indian Democra...</td>\n",
              "      <td>https://www.thehindu.com/sport/races/prevalent...</td>\n",
              "      <td>Prevalent Force, Stormy Knight, Indian Democr...</td>\n",
              "      <td>sports</td>\n",
              "      <td>prevalent force stormy knight indian democrat ...</td>\n",
              "      <td>prevalent force stormy knight indian democrat ...</td>\n",
              "      <td>prevalent force stormy knight indian democrat ...</td>\n",
              "      <td>6</td>\n",
              "    </tr>\n",
              "    <tr>\n",
              "      <th>4</th>\n",
              "      <td>Awesome One excels</td>\n",
              "      <td>https://www.thehindu.com/sport/races/awesome-o...</td>\n",
              "      <td>Awesome One excelled when the horses were exe...</td>\n",
              "      <td>sports</td>\n",
              "      <td>awesome one excelled when the horses were exer...</td>\n",
              "      <td>awesome one excelled horses exercised wednesda...</td>\n",
              "      <td>awesome one excelled horse exercise wednesday ...</td>\n",
              "      <td>6</td>\n",
              "    </tr>\n",
              "  </tbody>\n",
              "</table>\n",
              "</div>"
            ],
            "text/plain": [
              "                                            headline  ... numeric_labels\n",
              "0                      Sindhu targets Olympics gold   ...              6\n",
              "1           Shotgun selection trials from January 20  ...              6\n",
              "2            Supreme Fragrance wins SI Oaks in style  ...              6\n",
              "3  Prevalent Force, Stormy Knight, Indian Democra...  ...              6\n",
              "4                                 Awesome One excels  ...              6\n",
              "\n",
              "[5 rows x 8 columns]"
            ]
          },
          "metadata": {},
          "execution_count": 16
        }
      ]
    },
    {
      "cell_type": "code",
      "metadata": {
        "id": "xSHzDmeKrNKD"
      },
      "source": [
        "# df_new.word_length.nlargest(10)\n",
        "# df_new.word_length.nsmallest(10)"
      ],
      "execution_count": null,
      "outputs": []
    },
    {
      "cell_type": "code",
      "metadata": {
        "id": "HDGYZFg9giTr"
      },
      "source": [
        "def save_cleaned_df(df):\n",
        "  data_dir = '/content/drive/MyDrive/news_analysis/assets/clean_data'\n",
        "\n",
        "  #data with stop words and no lemmatization\n",
        "  df_cleaned = df[['headline','links','cleaned','labels','numeric_labels']]\n",
        "  data_path = os.path.join(data_dir, 'cleaned_articles.csv')\n",
        "  df_cleaned.to_csv(data_path, encoding='utf-8', index=False)\n",
        "\n",
        "  #data without stop words and no lemmatization\n",
        "  df_cleaned_sw = df[['headline','links','cleaned_no_sw','labels', 'numeric_labels']]\n",
        "  data_path = os.path.join(data_dir, 'cleaned_article_no_sw.csv')\n",
        "  df_cleaned_sw.to_csv(data_path, encoding='utf-8', index=False)\n",
        "\n",
        "  #data without stop words but with lemmatization\n",
        "  df_cleaned_lemma = df[['headline','links', 'cleaned_no_sw_lemma','numeric_labels']]\n",
        "  data_path = os.path.join(data_dir, 'cleaned_article_no_sw_lemma.csv')\n",
        "  df_cleaned_lemma.to_csv(data_path, encoding='utf-8', index=False)\n",
        "  # return df_cleaned\n",
        "save_cleaned_df(df)\n",
        "# df_cleaned.head()"
      ],
      "execution_count": 17,
      "outputs": []
    },
    {
      "cell_type": "code",
      "metadata": {
        "colab": {
          "base_uri": "https://localhost:8080/",
          "height": 310
        },
        "id": "3hdiFsaAminQ",
        "outputId": "0eb919ea-4114-42a2-ef0e-b7d3aa3acf82"
      },
      "source": [
        "def load_cleaned_data(removed_sw = False, lemmatized = False):\n",
        "  data_dir = '/content/drive/MyDrive/news_analysis/assets/clean_data'\n",
        "  if lemmatized:\n",
        "    cleaned_data_path = os.path.join(data_dir, 'cleaned_article_no_sw_lemma.csv')\n",
        "    df_cleaned = pd.read_csv(cleaned_data_path)\n",
        "    df_cleaned = df_cleaned.rename(columns={\"cleaned_no_sw_lemma\": \"cleaned_article\"})\n",
        "  elif removed_sw:\n",
        "    cleaned_data_path = os.path.join(data_dir, 'cleaned_article_no_sw.csv')\n",
        "    df_cleaned = pd.read_csv(cleaned_data_path)\n",
        "    df_cleaned = df_cleaned.rename(columns={\"cleaned_no_sw\": \"cleaned_article\"})\n",
        "  else:\n",
        "    cleaned_data_path = os.path.join(data_dir, 'cleaned_articles.csv')\n",
        "    df_cleaned = pd.read_csv(cleaned_data_path)\n",
        "    df_cleaned = df_cleaned.rename(columns={\"cleaned\": \"cleaned_article\"})\n",
        "  # df_cleaned = pd.read_csv(cleaned_data_path)\n",
        "  return df_cleaned\n",
        "df_cleaned = load_cleaned_data()\n",
        "df_cleaned.head()"
      ],
      "execution_count": 18,
      "outputs": [
        {
          "output_type": "execute_result",
          "data": {
            "text/html": [
              "<div>\n",
              "<style scoped>\n",
              "    .dataframe tbody tr th:only-of-type {\n",
              "        vertical-align: middle;\n",
              "    }\n",
              "\n",
              "    .dataframe tbody tr th {\n",
              "        vertical-align: top;\n",
              "    }\n",
              "\n",
              "    .dataframe thead th {\n",
              "        text-align: right;\n",
              "    }\n",
              "</style>\n",
              "<table border=\"1\" class=\"dataframe\">\n",
              "  <thead>\n",
              "    <tr style=\"text-align: right;\">\n",
              "      <th></th>\n",
              "      <th>headline</th>\n",
              "      <th>links</th>\n",
              "      <th>cleaned_article</th>\n",
              "      <th>labels</th>\n",
              "      <th>numeric_labels</th>\n",
              "    </tr>\n",
              "  </thead>\n",
              "  <tbody>\n",
              "    <tr>\n",
              "      <th>0</th>\n",
              "      <td>Sindhu targets Olympics gold</td>\n",
              "      <td>https://www.thehindu.com/sport/other-sports/si...</td>\n",
              "      <td>world champion p v sindhu said it is time to l...</td>\n",
              "      <td>sports</td>\n",
              "      <td>6</td>\n",
              "    </tr>\n",
              "    <tr>\n",
              "      <th>1</th>\n",
              "      <td>Shotgun selection trials from January 20</td>\n",
              "      <td>https://www.thehindu.com/sport/other-sports/sh...</td>\n",
              "      <td>the second and third shotgun selection trials ...</td>\n",
              "      <td>sports</td>\n",
              "      <td>6</td>\n",
              "    </tr>\n",
              "    <tr>\n",
              "      <th>2</th>\n",
              "      <td>Supreme Fragrance wins SI Oaks in style</td>\n",
              "      <td>https://www.thehindu.com/sport/races/star-frag...</td>\n",
              "      <td>robert foley trained supreme fragrance nakhat ...</td>\n",
              "      <td>sports</td>\n",
              "      <td>6</td>\n",
              "    </tr>\n",
              "    <tr>\n",
              "      <th>3</th>\n",
              "      <td>Prevalent Force, Stormy Knight, Indian Democra...</td>\n",
              "      <td>https://www.thehindu.com/sport/races/prevalent...</td>\n",
              "      <td>prevalent force stormy knight indian democrat ...</td>\n",
              "      <td>sports</td>\n",
              "      <td>6</td>\n",
              "    </tr>\n",
              "    <tr>\n",
              "      <th>4</th>\n",
              "      <td>Awesome One excels</td>\n",
              "      <td>https://www.thehindu.com/sport/races/awesome-o...</td>\n",
              "      <td>awesome one excelled when the horses were exer...</td>\n",
              "      <td>sports</td>\n",
              "      <td>6</td>\n",
              "    </tr>\n",
              "  </tbody>\n",
              "</table>\n",
              "</div>"
            ],
            "text/plain": [
              "                                            headline  ... numeric_labels\n",
              "0                      Sindhu targets Olympics gold   ...              6\n",
              "1           Shotgun selection trials from January 20  ...              6\n",
              "2            Supreme Fragrance wins SI Oaks in style  ...              6\n",
              "3  Prevalent Force, Stormy Knight, Indian Democra...  ...              6\n",
              "4                                 Awesome One excels  ...              6\n",
              "\n",
              "[5 rows x 5 columns]"
            ]
          },
          "metadata": {},
          "execution_count": 18
        }
      ]
    },
    {
      "cell_type": "code",
      "metadata": {
        "colab": {
          "base_uri": "https://localhost:8080/"
        },
        "id": "yryBMSb6W7aR",
        "outputId": "4a353b8a-647f-42bb-d45b-a2e5c5f2b0f3"
      },
      "source": [
        "df_cleaned.groupby('numeric_labels').count()['cleaned_article']"
      ],
      "execution_count": 19,
      "outputs": [
        {
          "output_type": "execute_result",
          "data": {
            "text/plain": [
              "numeric_labels\n",
              "0    1288\n",
              "1    1015\n",
              "2    1356\n",
              "3    2076\n",
              "4    1163\n",
              "5     632\n",
              "6    1154\n",
              "Name: cleaned_article, dtype: int64"
            ]
          },
          "metadata": {},
          "execution_count": 19
        }
      ]
    },
    {
      "cell_type": "markdown",
      "metadata": {
        "id": "mTk1lapaiy3c"
      },
      "source": [
        "## Train-Test split"
      ]
    },
    {
      "cell_type": "code",
      "metadata": {
        "id": "weTMLC8GQ6s4"
      },
      "source": [
        "# X_train, X_test, y_train, y_test = train_test_split(df_new['cleaned'],\n",
        "#                                                     df_new['numeric_labels'],\n",
        "#                                                     test_size=0.10, \n",
        "#                                                     random_state=8)"
      ],
      "execution_count": null,
      "outputs": []
    },
    {
      "cell_type": "code",
      "metadata": {
        "id": "FfnHwE4cTq_J"
      },
      "source": [
        "# with open('/content/drive/MyDrive/news_analysis/src/models/best_rfc.pickle', 'rb') as model:\n",
        "#   rfc_best = pickle.load(model)\n",
        "# print(\"The test accuracy is: \")\n",
        "# print(accuracy_score(y_test, rfc_best.predict(features_test)))"
      ],
      "execution_count": null,
      "outputs": []
    },
    {
      "cell_type": "markdown",
      "metadata": {
        "id": "PC5xhEeIngYo"
      },
      "source": [
        "## Vectorize text"
      ]
    },
    {
      "cell_type": "code",
      "metadata": {
        "id": "xoKjNsS3HtEZ"
      },
      "source": [
        "def split_stratified_into_train_val_test(df_input, stratify_colname='y',\n",
        "                                         frac_train=0.8, frac_val=0.1, frac_test=0.1,\n",
        "                                         random_state=None):\n",
        "    '''\n",
        "    Splits a Pandas dataframe into three subsets (train, val, and test)\n",
        "    following fractional ratios provided by the user, where each subset is\n",
        "    stratified by the values in a specific column (that is, each subset has\n",
        "    the same relative frequency of the values in the column). It performs this\n",
        "    splitting by running train_test_split() twice.\n",
        "\n",
        "    Parameters\n",
        "    ----------\n",
        "    df_input : Pandas dataframe\n",
        "        Input dataframe to be split.\n",
        "    stratify_colname : str\n",
        "        The name of the column that will be used for stratification. Usually\n",
        "        this column would be for the label.\n",
        "    frac_train : float\n",
        "    frac_val   : float\n",
        "    frac_test  : float\n",
        "        The ratios with which the dataframe will be split into train, val, and\n",
        "        test data. The values should be expressed as float fractions and should\n",
        "        sum to 1.0.\n",
        "    random_state : int, None, or RandomStateInstance\n",
        "        Value to be passed to train_test_split().\n",
        "\n",
        "    Returns\n",
        "    -------\n",
        "    df_train, df_val, df_test :\n",
        "        Dataframes containing the three splits.\n",
        "    '''\n",
        "\n",
        "    if frac_train + frac_val + frac_test != 1.0:\n",
        "        raise ValueError('fractions %f, %f, %f do not add up to 1.0' % \\\n",
        "                         (frac_train, frac_val, frac_test))\n",
        "\n",
        "    if stratify_colname not in df_input.columns:\n",
        "        raise ValueError('%s is not a column in the dataframe' % (stratify_colname))\n",
        "\n",
        "    X = df_input # Contains all columns.\n",
        "    y = df_input[[stratify_colname]] # Dataframe of just the column on which to stratify.\n",
        "\n",
        "    # Split original dataframe into train and temp dataframes.\n",
        "    df_train, df_temp, y_train, y_temp = train_test_split(X,\n",
        "                                                          y,\n",
        "                                                          stratify=y,\n",
        "                                                          test_size=(1.0 - frac_train),\n",
        "                                                          random_state=random_state)\n",
        "\n",
        "    # Split the temp dataframe into val and test dataframes.\n",
        "    relative_frac_test = frac_test / (frac_val + frac_test)\n",
        "    df_val, df_test, y_val, y_test = train_test_split(df_temp,\n",
        "                                                      y_temp,\n",
        "                                                      stratify=y_temp,\n",
        "                                                      test_size=relative_frac_test,\n",
        "                                                      random_state=random_state)\n",
        "\n",
        "    assert len(df_input) == len(df_train) + len(df_val) + len(df_test)\n",
        "\n",
        "    return df_train, df_val, df_test"
      ],
      "execution_count": 20,
      "outputs": []
    },
    {
      "cell_type": "markdown",
      "metadata": {
        "id": "6w9JH8vGrRNz"
      },
      "source": [
        "## Training"
      ]
    },
    {
      "cell_type": "code",
      "metadata": {
        "colab": {
          "base_uri": "https://localhost:8080/"
        },
        "id": "sgoRtD4Nm-ZK",
        "outputId": "e93739eb-7122-4a19-cf80-470b965a4ae1"
      },
      "source": [
        "def vectorize_text(df_cleaned, max_features = 300, frac_train=0.8, frac_val=0.1, frac_test=0.1):\n",
        "  #consider top max_features\n",
        "  tfidf = TfidfVectorizer(encoding='utf-8',\n",
        "                          ngram_range=(1,2),\n",
        "                          stop_words=None,\n",
        "                          lowercase=False,\n",
        "                          max_df=1.0,\n",
        "                          min_df=10,\n",
        "                          max_features = max_features,\n",
        "                          norm='l2',\n",
        "                          sublinear_tf=True\n",
        "                          )\n",
        "\n",
        "  #train val test split\n",
        "  train, val, test = split_stratified_into_train_val_test(df_cleaned, \n",
        "                                                          stratify_colname='numeric_labels',\n",
        "                                                          frac_train=frac_train, \n",
        "                                                          frac_val=frac_val, \n",
        "                                                          frac_test=frac_test\n",
        "                                                          )\n",
        "\n",
        "\n",
        "  x_train = train['cleaned_article']\n",
        "  x_val = val['cleaned_article']\n",
        "  x_test = test['cleaned_article']\n",
        "\n",
        "  y_train = train['numeric_labels']\n",
        "  y_val = val['numeric_labels']\n",
        "  y_test = test['numeric_labels']\n",
        "  \n",
        "  features_train = tfidf.fit_transform(x_train).toarray()\n",
        "  features_val = tfidf.transform(x_val).toarray()#never again use tfidf.fit_transform on val or test set\n",
        "  features_test = tfidf.transform(x_test).toarray()#never again use tfidf.fit_transform\n",
        "  print(features_train.shape, features_val.shape, features_test.shape)\n",
        "  pickles_dir = '/content/drive/MyDrive/news_analysis/data_pickles'\n",
        "  ###########################################################\n",
        "  # x_train\n",
        "  xtrain_p = os.path.join(pickles_dir, 'x_train.pickle')\n",
        "  with open(xtrain_p, 'wb') as output:\n",
        "    pickle.dump(x_train, output)\n",
        "  # x_val\n",
        "  xval_p = os.path.join(pickles_dir, 'x_val.pickle')\n",
        "  with open(xval_p, 'wb') as output:\n",
        "    pickle.dump(x_val, output)\n",
        "  # x_test    \n",
        "  xtest_p = os.path.join(pickles_dir, 'x_test.pickle')\n",
        "  with open(xtest_p, 'wb') as output:\n",
        "    pickle.dump(x_test, output)\n",
        "\n",
        "  ########################################################   \n",
        "  # y_train\n",
        "  ytrain_p = os.path.join(pickles_dir, 'y_train.pickle')\n",
        "  with open(ytrain_p, 'wb') as output:\n",
        "    pickle.dump(y_train, output)\n",
        "  # y_val\n",
        "  yval_p = os.path.join(pickles_dir, 'y_val.pickle')\n",
        "  with open(yval_p, 'wb') as output:\n",
        "    pickle.dump(y_val, output)    \n",
        "  # y_test\n",
        "  ytest_p = os.path.join(pickles_dir, 'y_test.pickle')\n",
        "  with open(ytest_p, 'wb') as output:\n",
        "    pickle.dump(y_test, output)\n",
        "  \n",
        "  ###########################################################\n",
        "  # features_train\n",
        "  features_train_p = os.path.join(pickles_dir, 'features_train.pickle')\n",
        "  with open(features_train_p, 'wb') as output:\n",
        "    pickle.dump(features_train, output)\n",
        "  # features_val\n",
        "  features_val_p = os.path.join(pickles_dir, 'features_val.pickle')\n",
        "  with open(features_val_p, 'wb') as output:\n",
        "    pickle.dump(features_val, output)\n",
        "  # features_test\n",
        "  features_test_p = os.path.join(pickles_dir, 'features_test.pickle')\n",
        "  with open(features_test_p, 'wb') as output:\n",
        "    pickle.dump(features_test, output)\n",
        "\n",
        "  ###########################################################\n",
        "  # df_cleaned\n",
        "  df_cleaned_p = os.path.join(pickles_dir, 'df_cleaned.pickle')\n",
        "  with open(df_cleaned_p, 'wb') as output:\n",
        "    pickle.dump(df_cleaned, output)   \n",
        "  # TF-IDF object\n",
        "  tfidf_p = os.path.join(pickles_dir, 'tfidf.pickle')\n",
        "  with open(tfidf_p, 'wb') as output:\n",
        "    pickle.dump(tfidf, output)\n",
        "  print(df_cleaned.shape)\n",
        "  return features_train, y_train, features_val, y_val, features_test, y_test\n",
        "features_train, labels_train, features_val, labels_val, features_test, labels_test = vectorize_text(df_cleaned)"
      ],
      "execution_count": 21,
      "outputs": [
        {
          "output_type": "stream",
          "name": "stdout",
          "text": [
            "(6947, 300) (868, 300) (869, 300)\n",
            "(8684, 5)\n"
          ]
        }
      ]
    },
    {
      "cell_type": "code",
      "metadata": {
        "colab": {
          "base_uri": "https://localhost:8080/"
        },
        "id": "7hJtmu90hwfS",
        "outputId": "34a88742-4f7a-4f95-eda3-f0bb48901230"
      },
      "source": [
        "base_rfc = RandomForestClassifier(random_state = 8)\n",
        "base_rfc.fit(features_train, labels_train)\n",
        "print(\"The training accuracy is: \")\n",
        "print(accuracy_score(labels_train, base_rfc.predict(features_train)))\n",
        "print(\"The val accuracy is: \")\n",
        "print(accuracy_score(labels_val, base_rfc.predict(features_val)))\n",
        "print(\"The test accuracy is: \")\n",
        "print(accuracy_score(labels_test, base_rfc.predict(features_test)))"
      ],
      "execution_count": 22,
      "outputs": [
        {
          "output_type": "stream",
          "name": "stdout",
          "text": [
            "The training accuracy is: \n",
            "1.0\n",
            "The val accuracy is: \n",
            "0.7799539170506913\n",
            "The test accuracy is: \n",
            "0.807825086306099\n"
          ]
        }
      ]
    },
    {
      "cell_type": "code",
      "metadata": {
        "colab": {
          "base_uri": "https://localhost:8080/"
        },
        "id": "27M9P41vCWZe",
        "outputId": "07582e61-7383-483e-dac2-8fd5ae7afe78"
      },
      "source": [
        "# Classification report\n",
        "print(\"Classification report\")\n",
        "print(classification_report(labels_test,base_rfc.predict(features_test)))"
      ],
      "execution_count": 23,
      "outputs": [
        {
          "output_type": "stream",
          "name": "stdout",
          "text": [
            "Classification report\n",
            "              precision    recall  f1-score   support\n",
            "\n",
            "           0       0.84      0.78      0.81       129\n",
            "           1       0.88      0.83      0.85       101\n",
            "           2       0.83      0.71      0.77       136\n",
            "           3       0.73      0.91      0.81       208\n",
            "           4       0.83      0.76      0.79       117\n",
            "           5       0.77      0.75      0.76        63\n",
            "           6       0.88      0.83      0.85       115\n",
            "\n",
            "    accuracy                           0.81       869\n",
            "   macro avg       0.82      0.80      0.81       869\n",
            "weighted avg       0.81      0.81      0.81       869\n",
            "\n"
          ]
        }
      ]
    },
    {
      "cell_type": "code",
      "metadata": {
        "id": "nYmHzbO5chh4"
      },
      "source": [
        "model_dir = '/content/drive/MyDrive/news_analysis/src/models'\n",
        "rfc_path = os.path.join(model_dir,'base_rfc.pickle')\n",
        "with open(rfc_path, 'wb') as output:\n",
        "    pickle.dump(base_rfc, output)"
      ],
      "execution_count": 33,
      "outputs": []
    },
    {
      "cell_type": "code",
      "metadata": {
        "colab": {
          "base_uri": "https://localhost:8080/"
        },
        "id": "8wZTMF4fc7i8",
        "outputId": "063d0afc-748e-4c3f-b6b7-2bd2ce6b5651"
      },
      "source": [
        "with open(rfc_path, 'rb') as model:\n",
        "  model = pickle.load(model)\n",
        "print(\"The test accuracy is: \")\n",
        "print(accuracy_score(labels_test, model.predict(features_test)))"
      ],
      "execution_count": 34,
      "outputs": [
        {
          "output_type": "stream",
          "name": "stdout",
          "text": [
            "The test accuracy is: \n",
            "0.807825086306099\n"
          ]
        }
      ]
    },
    {
      "cell_type": "markdown",
      "metadata": {
        "id": "i2qCmvVgDeNO"
      },
      "source": [
        "## Cross Validation"
      ]
    },
    {
      "cell_type": "markdown",
      "metadata": {
        "id": "xVR9Xvnvrm_7"
      },
      "source": [
        "### Random Forest\n",
        "#### Parameters to tune\n",
        "`n_estimators`: number of trees in the forest.\n",
        "\n",
        "`max_features`: max number of features considered for splitting a node\n",
        "\n",
        "`max_depth`: max number of levels in each decision tree\n",
        "\n",
        "`min_samples_split`: min number of data points placed in a node before the node is split\n",
        "\n",
        "`min_samples_leaf`: min number of data points allowed in a leaf node\n",
        "\n",
        "`bootstrap`: method for sampling data points (with or without replacement)"
      ]
    },
    {
      "cell_type": "code",
      "metadata": {
        "colab": {
          "base_uri": "https://localhost:8080/"
        },
        "id": "xOsSLTnjrH93",
        "outputId": "8c1900e5-39fd-4a78-b430-dc1f5e72c4ad"
      },
      "source": [
        "def cv_randomized(features_val, labels_val):\n",
        "\n",
        "  # n_estimators\n",
        "  n_estimators = [int(x) for x in np.linspace(start = 200, stop = 1000, num = 5)]\n",
        "\n",
        "  # max_features\n",
        "  max_features = ['auto', 'log2', 50]\n",
        "\n",
        "  # max_depth\n",
        "  max_depth = [int(x) for x in np.linspace(20, 100, num = 5)]\n",
        "  max_depth.append(None)\n",
        "\n",
        "  # min_samples_split\n",
        "  min_samples_split = [2, 5, 10]\n",
        "\n",
        "  # min_samples_leaf\n",
        "  min_samples_leaf = [1, 2, 4]\n",
        "\n",
        "  # bootstrap\n",
        "  bootstrap = [True, False]\n",
        "\n",
        "  # Create the random grid\n",
        "  random_grid = {'n_estimators': n_estimators,\n",
        "                'max_features': max_features,\n",
        "                'max_depth': max_depth,\n",
        "                'min_samples_split': min_samples_split,\n",
        "                'min_samples_leaf': min_samples_leaf,\n",
        "                'bootstrap': bootstrap}\n",
        "\n",
        "  pprint(random_grid)\n",
        "  # First create the base model to tune\n",
        "  rfc = RandomForestClassifier(random_state=8)\n",
        "\n",
        "  # Definition of the random search\n",
        "  random_search = RandomizedSearchCV(estimator=rfc,\n",
        "                                    param_distributions=random_grid,\n",
        "                                    n_iter=50,\n",
        "                                    scoring='accuracy',\n",
        "                                    cv=3, \n",
        "                                    verbose=1, \n",
        "                                    random_state=8)\n",
        "\n",
        "  # Fit the random search model\n",
        "  random_search.fit(features_val, labels_val)\n",
        "  return random_search\n",
        "\n",
        "random_search = cv_randomized(features_train, labels_train)\n",
        "print(\"The best hyperparameters from Random Search are:\")\n",
        "print(random_search.best_params_)\n",
        "print(\"\")\n",
        "print(\"The mean accuracy of a model with these hyperparameters is:\")\n",
        "print(random_search.best_score_)"
      ],
      "execution_count": 24,
      "outputs": [
        {
          "output_type": "stream",
          "name": "stdout",
          "text": [
            "{'bootstrap': [True, False],\n",
            " 'max_depth': [20, 40, 60, 80, 100, None],\n",
            " 'max_features': ['auto', 'log2', 50],\n",
            " 'min_samples_leaf': [1, 2, 4],\n",
            " 'min_samples_split': [2, 5, 10],\n",
            " 'n_estimators': [200, 400, 600, 800, 1000]}\n",
            "Fitting 3 folds for each of 50 candidates, totalling 150 fits\n",
            "The best hyperparameters from Random Search are:\n",
            "{'n_estimators': 400, 'min_samples_split': 5, 'min_samples_leaf': 1, 'max_features': 'auto', 'max_depth': None, 'bootstrap': False}\n",
            "\n",
            "The mean accuracy of a model with these hyperparameters is:\n",
            "0.8209307400485683\n"
          ]
        }
      ]
    },
    {
      "cell_type": "code",
      "metadata": {
        "id": "t8_W4l8PakSS"
      },
      "source": [
        "res_dict = random_search.cv_results_"
      ],
      "execution_count": 28,
      "outputs": []
    },
    {
      "cell_type": "code",
      "metadata": {
        "id": "Q_i0citkF24h"
      },
      "source": [
        "class NumpyEncoder(json.JSONEncoder):\n",
        "    def default(self, obj):\n",
        "        if isinstance(obj, np.ndarray):\n",
        "            return obj.tolist()\n",
        "        return json.JSONEncoder.default(self, obj)\n",
        "config_dir = '/content/drive/MyDrive/news_analysis/configs'\n",
        "config_path = os.path.join(config_dir, 'rfc_random_search.json')\n",
        "with open(config_path, 'w') as f:\n",
        "  json.dump(res_dict, f, indent = 4, cls=NumpyEncoder)"
      ],
      "execution_count": 30,
      "outputs": []
    },
    {
      "cell_type": "code",
      "metadata": {
        "id": "_aOZyu2atbrg"
      },
      "source": [
        "# Create the parameter grid based on the results of random search \n",
        "def cv_grid(features_val, labels_val):\n",
        "  bootstrap = [False]\n",
        "  max_depth = [None]\n",
        "  max_features = ['auto','log2']\n",
        "  min_samples_leaf = [1, 2, 8]\n",
        "  min_samples_split = [2, 5, 10]\n",
        "  n_estimators = [100, 200, 400]\n",
        "\n",
        "  param_grid = {\n",
        "      'bootstrap': bootstrap,\n",
        "      'max_depth': max_depth,\n",
        "      'max_features': max_features,\n",
        "      'min_samples_leaf': min_samples_leaf,\n",
        "      'min_samples_split': min_samples_split,\n",
        "      'n_estimators': n_estimators\n",
        "      }\n",
        "\n",
        "  # Create a base model\n",
        "  rfc = RandomForestClassifier(random_state=8)\n",
        "\n",
        "  # Manually create the splits in CV in order to be able to fix a random_state (GridSearchCV doesn't have that argument)\n",
        "  cv_sets = ShuffleSplit(n_splits = 3, test_size = .33, random_state = 8)\n",
        "\n",
        "  # Instantiate the grid search model\n",
        "  grid_search = GridSearchCV(estimator=rfc, \n",
        "                            param_grid=param_grid,\n",
        "                            scoring='accuracy',\n",
        "                            cv=cv_sets,\n",
        "                            return_train_score=True,\n",
        "                            verbose=10)\n",
        "\n",
        "  # Fit the grid search to the data\n",
        "  grid_search.fit(features_val, labels_val)\n",
        "  return grid_search\n",
        "grid_search = cv_grid(features_train, labels_train)"
      ],
      "execution_count": null,
      "outputs": []
    },
    {
      "cell_type": "code",
      "metadata": {
        "colab": {
          "base_uri": "https://localhost:8080/",
          "height": 278
        },
        "id": "F_BbRDCGx3px",
        "outputId": "a5f7aeff-a6b1-47f0-ecd8-f983ce2d445a"
      },
      "source": [
        "def plot_search_results(grid):\n",
        "    \"\"\"\n",
        "    Params: \n",
        "        grid: A trained GridSearchCV object.\n",
        "    \"\"\"\n",
        "    ## Results from grid search\n",
        "    results = grid.cv_results_\n",
        "    means_test = results['mean_test_score']\n",
        "    stds_test = results['std_test_score']\n",
        "    means_train = results['mean_train_score']\n",
        "    stds_train = results['std_train_score']\n",
        "\n",
        "    ## Getting indexes of values per hyper-parameter\n",
        "    masks=[]\n",
        "    masks_names= list(grid.best_params_.keys())\n",
        "    for p_k, p_v in grid.best_params_.items():\n",
        "        masks.append(list(results['param_'+p_k].data==p_v))\n",
        "\n",
        "    params=grid.param_grid\n",
        "\n",
        "    ## Ploting results\n",
        "    fig, ax = plt.subplots(1,len(params),sharex='none', sharey='all',figsize=(20,5))\n",
        "    fig.suptitle('Score per parameter')\n",
        "    fig.text(0.04, 0.5, 'MEAN SCORE', va='center', rotation='vertical')\n",
        "    pram_preformace_in_best = {}\n",
        "    for i, p in enumerate(masks_names):\n",
        "        m = np.stack(masks[:i] + masks[i+1:])\n",
        "        pram_preformace_in_best\n",
        "        best_parms_mask = m.all(axis=0)\n",
        "        best_index = np.where(best_parms_mask)[0]\n",
        "        x = np.array(params[p])\n",
        "        y_1 = np.array(means_test[best_index])\n",
        "        e_1 = np.array(stds_test[best_index])\n",
        "        y_2 = np.array(means_train[best_index])\n",
        "        e_2 = np.array(stds_train[best_index])\n",
        "        ax[i].errorbar(x, y_1, e_1, linestyle='--', marker='o', label='test')\n",
        "        ax[i].errorbar(x, y_2, e_2, linestyle='-', marker='^',label='train' )\n",
        "        ax[i].set_xlabel(p.upper())\n",
        "\n",
        "    plt.legend()\n",
        "    plt.show()\n",
        "\n",
        "\n",
        "plot_search_results(grid_search)\n",
        "# plot_grid_search(grid_search.cv_results_, n_estimators, max_features, 'N Estimators', 'Max Features')"
      ],
      "execution_count": 52,
      "outputs": [
        {
          "output_type": "display_data",
          "data": {
            "image/png": "[encoded data removed]",
            "text/plain": [
              "<Figure size 1440x360 with 6 Axes>"
            ]
          },
          "metadata": {
            "needs_background": "light"
          }
        }
      ]
    },
    {
      "cell_type": "code",
      "metadata": {
        "colab": {
          "base_uri": "https://localhost:8080/"
        },
        "id": "9L0j9fRgzW5F",
        "outputId": "a011f2c1-f9b4-490f-8a83-6178ce7527b9"
      },
      "source": [
        "grid_search.best_params_"
      ],
      "execution_count": 53,
      "outputs": [
        {
          "output_type": "execute_result",
          "data": {
            "text/plain": [
              "{'bootstrap': False,\n",
              " 'max_depth': None,\n",
              " 'max_features': 'auto',\n",
              " 'min_samples_leaf': 1,\n",
              " 'min_samples_split': 2,\n",
              " 'n_estimators': 400}"
            ]
          },
          "metadata": {},
          "execution_count": 53
        }
      ]
    },
    {
      "cell_type": "code",
      "metadata": {
        "colab": {
          "base_uri": "https://localhost:8080/"
        },
        "id": "khy5FwIytmSF",
        "outputId": "ad6ed492-2dc8-445a-f931-c9a520f7f56a"
      },
      "source": [
        "best_rfc = grid_search.best_estimator_\n",
        "print(best_rfc)\n",
        "best_rfc.fit(features_train, labels_train)\n",
        "rfc_pred = best_rfc.predict(features_test)\n",
        "# Training  and test accuracy\n",
        "print(\"The training accuracy is: \")\n",
        "print(accuracy_score(labels_train, best_rfc.predict(features_train)))\n",
        "print(\"The test accuracy is: \")\n",
        "print(accuracy_score(labels_test, rfc_pred))\n",
        "print(\"The val accuracy is: \")\n",
        "print(accuracy_score(labels_val,  best_rfc.predict(features_val)))"
      ],
      "execution_count": 37,
      "outputs": [
        {
          "output_type": "stream",
          "name": "stdout",
          "text": [
            "RandomForestClassifier(bootstrap=False, n_estimators=400, random_state=8)\n",
            "The training accuracy is: \n",
            "1.0\n",
            "The test accuracy is: \n",
            "0.8181818181818182\n",
            "The val accuracy is: \n",
            "0.8018433179723502\n"
          ]
        }
      ]
    },
    {
      "cell_type": "code",
      "metadata": {
        "colab": {
          "base_uri": "https://localhost:8080/"
        },
        "id": "kJU2fCEBuH5M",
        "outputId": "45235546-79a7-451b-dc14-dcfb482ed6fb"
      },
      "source": [
        "# Classification report\n",
        "print(\"Classification report\")\n",
        "print(classification_report(labels_test,rfc_pred))"
      ],
      "execution_count": 38,
      "outputs": [
        {
          "output_type": "stream",
          "name": "stdout",
          "text": [
            "Classification report\n",
            "              precision    recall  f1-score   support\n",
            "\n",
            "           0       0.85      0.79      0.82       129\n",
            "           1       0.87      0.81      0.84       101\n",
            "           2       0.85      0.76      0.80       136\n",
            "           3       0.75      0.91      0.82       208\n",
            "           4       0.83      0.79      0.81       117\n",
            "           5       0.73      0.78      0.75        63\n",
            "           6       0.90      0.82      0.85       115\n",
            "\n",
            "    accuracy                           0.82       869\n",
            "   macro avg       0.83      0.81      0.81       869\n",
            "weighted avg       0.82      0.82      0.82       869\n",
            "\n"
          ]
        }
      ]
    },
    {
      "cell_type": "code",
      "metadata": {
        "colab": {
          "base_uri": "https://localhost:8080/",
          "height": 404
        },
        "id": "pWPQY7UouKpB",
        "outputId": "735e4bce-8b4f-4885-aa9e-fe3b52f6e7dd"
      },
      "source": [
        "aux_df = df[['labels', 'numeric_labels']].drop_duplicates().sort_values('numeric_labels')\n",
        "conf_matrix = confusion_matrix(labels_test, rfc_pred)\n",
        "plt.figure(figsize=(12.8,6))\n",
        "sns.heatmap(conf_matrix, \n",
        "            annot=True,\n",
        "            xticklabels=aux_df['labels'].values, \n",
        "            yticklabels=aux_df['labels'].values,\n",
        "            cmap=\"Blues\",\n",
        "            fmt='d')\n",
        "plt.ylabel('Predicted')\n",
        "plt.xlabel('Actual')\n",
        "plt.title('Confusion matrix')\n",
        "plt.show()"
      ],
      "execution_count": 40,
      "outputs": [
        {
          "output_type": "display_data",
          "data": {
            "image/png": "[encoded data removed]",
            "text/plain": [
              "<Figure size 921.6x432 with 2 Axes>"
            ]
          },
          "metadata": {
            "needs_background": "light"
          }
        }
      ]
    },
    {
      "cell_type": "code",
      "metadata": {
        "colab": {
          "base_uri": "https://localhost:8080/",
          "height": 404
        },
        "id": "zSpmhCJgjoP8",
        "outputId": "b12c331f-5fc5-4061-8ebc-d97fab1f7bf6"
      },
      "source": [
        "rfc_pred_base = base_rfc.predict(features_test)\n",
        "aux_df = df[['labels', 'numeric_labels']].drop_duplicates().sort_values('numeric_labels')\n",
        "conf_matrix = confusion_matrix(labels_test, rfc_pred_base)\n",
        "plt.figure(figsize=(12.8,6))\n",
        "sns.heatmap(conf_matrix, \n",
        "            annot=True,\n",
        "            xticklabels=aux_df['labels'].values, \n",
        "            yticklabels=aux_df['labels'].values,\n",
        "            cmap=\"Blues\",\n",
        "            fmt = 'd')\n",
        "plt.ylabel('Predicted')\n",
        "plt.xlabel('Actual')\n",
        "plt.title('Confusion matrix')\n",
        "plt.show()"
      ],
      "execution_count": 43,
      "outputs": [
        {
          "output_type": "display_data",
          "data": {
            "image/png": "[encoded data removed]",
            "text/plain": [
              "<Figure size 921.6x432 with 2 Axes>"
            ]
          },
          "metadata": {
            "needs_background": "light"
          }
        }
      ]
    },
    {
      "cell_type": "code",
      "metadata": {
        "id": "lkCs08Qsveya"
      },
      "source": [
        "d = {\n",
        "     'Model': 'Random Forest',\n",
        "     'Training Set Accuracy': accuracy_score(labels_train, best_rfc.predict(features_train)),\n",
        "     'Test Set Accuracy': accuracy_score(labels_test, best_rfc.predict(features_test))\n",
        "}\n",
        "\n",
        "df_models_rfc = pd.DataFrame(d, index=[0])"
      ],
      "execution_count": 44,
      "outputs": []
    },
    {
      "cell_type": "code",
      "metadata": {
        "colab": {
          "base_uri": "https://localhost:8080/",
          "height": 81
        },
        "id": "njNAElTNviBe",
        "outputId": "30f5bd73-31f1-4032-f9aa-6fe71c90e00f"
      },
      "source": [
        "df_models_rfc"
      ],
      "execution_count": 45,
      "outputs": [
        {
          "output_type": "execute_result",
          "data": {
            "text/html": [
              "<div>\n",
              "<style scoped>\n",
              "    .dataframe tbody tr th:only-of-type {\n",
              "        vertical-align: middle;\n",
              "    }\n",
              "\n",
              "    .dataframe tbody tr th {\n",
              "        vertical-align: top;\n",
              "    }\n",
              "\n",
              "    .dataframe thead th {\n",
              "        text-align: right;\n",
              "    }\n",
              "</style>\n",
              "<table border=\"1\" class=\"dataframe\">\n",
              "  <thead>\n",
              "    <tr style=\"text-align: right;\">\n",
              "      <th></th>\n",
              "      <th>Model</th>\n",
              "      <th>Training Set Accuracy</th>\n",
              "      <th>Test Set Accuracy</th>\n",
              "    </tr>\n",
              "  </thead>\n",
              "  <tbody>\n",
              "    <tr>\n",
              "      <th>0</th>\n",
              "      <td>Random Forest</td>\n",
              "      <td>1.0</td>\n",
              "      <td>0.818182</td>\n",
              "    </tr>\n",
              "  </tbody>\n",
              "</table>\n",
              "</div>"
            ],
            "text/plain": [
              "           Model  Training Set Accuracy  Test Set Accuracy\n",
              "0  Random Forest                    1.0           0.818182"
            ]
          },
          "metadata": {},
          "execution_count": 45
        }
      ]
    },
    {
      "cell_type": "code",
      "metadata": {
        "id": "fqdBv7wgvmbj"
      },
      "source": [
        "model_dir = '/content/drive/MyDrive/news_analysis/src/models'\n",
        "rfc_path = os.path.join(model_dir,'best_rfc.pickle')\n",
        "res_path = os.path.join(model_dir, 'df_models_rfc.pickle')\n",
        "with open(rfc_path, 'wb') as output:\n",
        "    pickle.dump(best_rfc, output)\n",
        "    \n",
        "with open(res_path, 'wb') as output:\n",
        "    pickle.dump(df_models_rfc, output)"
      ],
      "execution_count": 46,
      "outputs": []
    },
    {
      "cell_type": "code",
      "metadata": {
        "colab": {
          "base_uri": "https://localhost:8080/",
          "height": 35
        },
        "id": "Cq06DEBLSW5E",
        "outputId": "ec8e7ce2-f042-41d7-ed11-dad084460d71"
      },
      "source": [
        "### Check the result on random text\n",
        "labels_decode = {\n",
        "                0:'business', \n",
        "                1:'entertainment',\n",
        "                2:'international',\n",
        "                3:'national',\n",
        "                4:'sci-tech',\n",
        "                5:'society',\n",
        "                6:'sports'\n",
        "              }\n",
        "model_dir = '/content/drive/MyDrive/news_analysis/src/models'\n",
        "pickles_dir = '/content/drive/MyDrive/news_analysis/data_pickles'\n",
        "rfc_path = os.path.join(model_dir,'best_rfc.pickle')\n",
        "tfidf_p = os.path.join(pickles_dir, 'tfidf.pickle')\n",
        "\n",
        "with open(rfc_path, 'rb') as model:\n",
        "  model = pickle.load(model)\n",
        "\n",
        "with open(tfidf_p, 'rb') as tfidf:\n",
        "  tfidf = pickle.load(tfidf)\n",
        "\n",
        "text = r'''Twitter Inc said on Friday its engineering head Michael Montano and design chief Dantley Davis would step down from their roles by the end of this month, as part of a broader management restructuring at the social networking site.\n",
        "\n",
        "(Sign up to our Technology newsletter, Today's Cache, for insights on emerging themes at the intersection of technology, business and policy. Click here to subscribe for free.)\n",
        "\n",
        "The moves come just days after co-founder Jack Dorsey stepped down as chief executive officer and handed over the reins to Chief Technology Officer Parag Agrawal.\n",
        "\n",
        "Twitter said Agrawal, in his newly assumed role, has decided to reorganise the leadership structure at the company and shift to a general manager model for consumer, revenue and core tech that would oversee all core teams across engineering, product management, design and research.'''\n",
        "text = clean(text)\n",
        "feat = tfidf.transform([text])\n",
        "labels_decode[model.predict(feat)[0]]"
      ],
      "execution_count": 64,
      "outputs": [
        {
          "output_type": "execute_result",
          "data": {
            "application/vnd.google.colaboratory.intrinsic+json": {
              "type": "string"
            },
            "text/plain": [
              "'sci-tech'"
            ]
          },
          "metadata": {},
          "execution_count": 64
        }
      ]
    },
    {
      "cell_type": "code",
      "metadata": {
        "id": "n3YtnGFjSVKX"
      },
      "source": [
        ""
      ],
      "execution_count": null,
      "outputs": []
    }
  ]
}